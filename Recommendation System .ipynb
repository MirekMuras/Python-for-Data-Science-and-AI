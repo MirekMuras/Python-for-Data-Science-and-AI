{
    "cells": [
        {
            "metadata": {},
            "cell_type": "markdown",
            "source": "# Recommendation System content based filtering\n- Create a recommendation system using collaborative filtering"
        },
        {
            "metadata": {
                "collapsed": true
            },
            "cell_type": "markdown",
            "source": "### Table of contents\n\n<div class=\"alert alert-block alert-info\" style=\"margin-top: 20px\">\n    <ol>\n        <li><a href=\"#ref1\">Acquiring the Data</a></li>\n        <li><a href=\"#ref2\">Preprocessing</a></li>\n        <li><a href=\"#ref3\">Content-Based Filtering</a></li>\n    </ol>\n</div>\n<br>"
        },
        {
            "metadata": {},
            "cell_type": "markdown",
            "source": "### Advantages and Disadvantages of Content-Based Filtering\n\n##### Advantages\n\n-   Learns user's preferences\n-   Highly personalized for the user\n\n##### Disadvantages\n\n-   Doesn't take into account what others think of the item, so low quality item recommendations might happen\n-   Extracting data is not always intuitive\n-   Determining what characteristics of the item the user dislikes or likes is not always obvious"
        },
        {
            "metadata": {},
            "cell_type": "markdown",
            "source": "<a id=\"ref1\"></a>\n\n# Acquiring the Data\n\n- Acquire and extract the dataset"
        },
        {
            "metadata": {},
            "cell_type": "code",
            "source": "!wget -O moviedataset.zip https://s3-api.us-geo.objectstorage.softlayer.net/cf-courses-data/CognitiveClass/ML0101ENv3/labs/moviedataset.zip\nprint('unziping files...')\n!unzip -o -j moviedataset.zip ",
            "execution_count": 19,
            "outputs": [
                {
                    "output_type": "stream",
                    "text": "--2020-10-16 01:54:58--  https://s3-api.us-geo.objectstorage.softlayer.net/cf-courses-data/CognitiveClass/ML0101ENv3/labs/moviedataset.zip\nResolving s3-api.us-geo.objectstorage.softlayer.net (s3-api.us-geo.objectstorage.softlayer.net)... 67.228.254.196\nConnecting to s3-api.us-geo.objectstorage.softlayer.net (s3-api.us-geo.objectstorage.softlayer.net)|67.228.254.196|:443... connected.\nHTTP request sent, awaiting response... 200 OK\nLength: 160301210 (153M) [application/zip]\nSaving to: \u2018moviedataset.zip\u2019\n\nmoviedataset.zip    100%[===================>] 152.88M  38.4MB/s    in 4.0s    \n\n2020-10-16 01:55:03 (37.9 MB/s) - \u2018moviedataset.zip\u2019 saved [160301210/160301210]\n\nunziping files...\nArchive:  moviedataset.zip\n  inflating: links.csv               \n  inflating: movies.csv              \n  inflating: ratings.csv             \n  inflating: README.txt              \n  inflating: tags.csv                \n",
                    "name": "stdout"
                }
            ]
        },
        {
            "metadata": {},
            "cell_type": "markdown",
            "source": "# Preprocessing\n"
        },
        {
            "metadata": {},
            "cell_type": "code",
            "source": "# Import librtries\nimport pandas as pd\nfrom math import sqrt\nimport numpy as np\nimport matplotlib.pyplot as plt\n%matplotlib inline\n\nprint('imported')",
            "execution_count": 20,
            "outputs": [
                {
                    "output_type": "stream",
                    "text": "imported\n",
                    "name": "stdout"
                }
            ]
        },
        {
            "metadata": {},
            "cell_type": "code",
            "source": "## read file into dataframes\nmovies_df = pd.read_csv('movies.csv')\nratings_df = pd.read_csv('ratings.csv')\nmovies_df.head()",
            "execution_count": 21,
            "outputs": [
                {
                    "output_type": "execute_result",
                    "execution_count": 21,
                    "data": {
                        "text/plain": "   movieId                               title  \\\n0        1                    Toy Story (1995)   \n1        2                      Jumanji (1995)   \n2        3             Grumpier Old Men (1995)   \n3        4            Waiting to Exhale (1995)   \n4        5  Father of the Bride Part II (1995)   \n\n                                        genres  \n0  Adventure|Animation|Children|Comedy|Fantasy  \n1                   Adventure|Children|Fantasy  \n2                               Comedy|Romance  \n3                         Comedy|Drama|Romance  \n4                                       Comedy  ",
                        "text/html": "<div>\n<style scoped>\n    .dataframe tbody tr th:only-of-type {\n        vertical-align: middle;\n    }\n\n    .dataframe tbody tr th {\n        vertical-align: top;\n    }\n\n    .dataframe thead th {\n        text-align: right;\n    }\n</style>\n<table border=\"1\" class=\"dataframe\">\n  <thead>\n    <tr style=\"text-align: right;\">\n      <th></th>\n      <th>movieId</th>\n      <th>title</th>\n      <th>genres</th>\n    </tr>\n  </thead>\n  <tbody>\n    <tr>\n      <th>0</th>\n      <td>1</td>\n      <td>Toy Story (1995)</td>\n      <td>Adventure|Animation|Children|Comedy|Fantasy</td>\n    </tr>\n    <tr>\n      <th>1</th>\n      <td>2</td>\n      <td>Jumanji (1995)</td>\n      <td>Adventure|Children|Fantasy</td>\n    </tr>\n    <tr>\n      <th>2</th>\n      <td>3</td>\n      <td>Grumpier Old Men (1995)</td>\n      <td>Comedy|Romance</td>\n    </tr>\n    <tr>\n      <th>3</th>\n      <td>4</td>\n      <td>Waiting to Exhale (1995)</td>\n      <td>Comedy|Drama|Romance</td>\n    </tr>\n    <tr>\n      <th>4</th>\n      <td>5</td>\n      <td>Father of the Bride Part II (1995)</td>\n      <td>Comedy</td>\n    </tr>\n  </tbody>\n</table>\n</div>"
                    },
                    "metadata": {}
                }
            ]
        },
        {
            "metadata": {},
            "cell_type": "code",
            "source": "# split the values in the Genres column into a list of Genres\n# Every genre is separated by a | so we simply have to call the split function on |\nmovies_df['genres'] = movies_df.genres.str.split('|')\nmovies_df.head()",
            "execution_count": 22,
            "outputs": [
                {
                    "output_type": "execute_result",
                    "execution_count": 22,
                    "data": {
                        "text/plain": "   movieId                               title  \\\n0        1                    Toy Story (1995)   \n1        2                      Jumanji (1995)   \n2        3             Grumpier Old Men (1995)   \n3        4            Waiting to Exhale (1995)   \n4        5  Father of the Bride Part II (1995)   \n\n                                              genres  \n0  [Adventure, Animation, Children, Comedy, Fantasy]  \n1                     [Adventure, Children, Fantasy]  \n2                                  [Comedy, Romance]  \n3                           [Comedy, Drama, Romance]  \n4                                           [Comedy]  ",
                        "text/html": "<div>\n<style scoped>\n    .dataframe tbody tr th:only-of-type {\n        vertical-align: middle;\n    }\n\n    .dataframe tbody tr th {\n        vertical-align: top;\n    }\n\n    .dataframe thead th {\n        text-align: right;\n    }\n</style>\n<table border=\"1\" class=\"dataframe\">\n  <thead>\n    <tr style=\"text-align: right;\">\n      <th></th>\n      <th>movieId</th>\n      <th>title</th>\n      <th>genres</th>\n    </tr>\n  </thead>\n  <tbody>\n    <tr>\n      <th>0</th>\n      <td>1</td>\n      <td>Toy Story (1995)</td>\n      <td>[Adventure, Animation, Children, Comedy, Fantasy]</td>\n    </tr>\n    <tr>\n      <th>1</th>\n      <td>2</td>\n      <td>Jumanji (1995)</td>\n      <td>[Adventure, Children, Fantasy]</td>\n    </tr>\n    <tr>\n      <th>2</th>\n      <td>3</td>\n      <td>Grumpier Old Men (1995)</td>\n      <td>[Comedy, Romance]</td>\n    </tr>\n    <tr>\n      <th>3</th>\n      <td>4</td>\n      <td>Waiting to Exhale (1995)</td>\n      <td>[Comedy, Drama, Romance]</td>\n    </tr>\n    <tr>\n      <th>4</th>\n      <td>5</td>\n      <td>Father of the Bride Part II (1995)</td>\n      <td>[Comedy]</td>\n    </tr>\n  </tbody>\n</table>\n</div>"
                    },
                    "metadata": {}
                }
            ]
        },
        {
            "metadata": {},
            "cell_type": "code",
            "source": "# remove the year from the title column\n\n#We specify the parantheses so we don't conflict with movies that have years in their titles\nmovies_df['year'] = movies_df.title.str.extract('(\\(\\d\\d\\d\\d\\))',expand=False)\n#Removing the parentheses\nmovies_df['year'] = movies_df.year.str.extract('(\\d\\d\\d\\d)',expand=False)\n\n#Removing the years from the 'title' column\nmovies_df['title'] = movies_df.title.str.replace('(\\(\\d\\d\\d\\d\\))', '')\n#Applying the strip function to get rid of any ending whitespace characters that may have appeared\nmovies_df['title'] = movies_df['title'].apply(lambda x: x.strip())\n\nmovies_df.head()",
            "execution_count": 23,
            "outputs": [
                {
                    "output_type": "execute_result",
                    "execution_count": 23,
                    "data": {
                        "text/plain": "   movieId                        title  \\\n0        1                    Toy Story   \n1        2                      Jumanji   \n2        3             Grumpier Old Men   \n3        4            Waiting to Exhale   \n4        5  Father of the Bride Part II   \n\n                                              genres  year  \n0  [Adventure, Animation, Children, Comedy, Fantasy]  1995  \n1                     [Adventure, Children, Fantasy]  1995  \n2                                  [Comedy, Romance]  1995  \n3                           [Comedy, Drama, Romance]  1995  \n4                                           [Comedy]  1995  ",
                        "text/html": "<div>\n<style scoped>\n    .dataframe tbody tr th:only-of-type {\n        vertical-align: middle;\n    }\n\n    .dataframe tbody tr th {\n        vertical-align: top;\n    }\n\n    .dataframe thead th {\n        text-align: right;\n    }\n</style>\n<table border=\"1\" class=\"dataframe\">\n  <thead>\n    <tr style=\"text-align: right;\">\n      <th></th>\n      <th>movieId</th>\n      <th>title</th>\n      <th>genres</th>\n      <th>year</th>\n    </tr>\n  </thead>\n  <tbody>\n    <tr>\n      <th>0</th>\n      <td>1</td>\n      <td>Toy Story</td>\n      <td>[Adventure, Animation, Children, Comedy, Fantasy]</td>\n      <td>1995</td>\n    </tr>\n    <tr>\n      <th>1</th>\n      <td>2</td>\n      <td>Jumanji</td>\n      <td>[Adventure, Children, Fantasy]</td>\n      <td>1995</td>\n    </tr>\n    <tr>\n      <th>2</th>\n      <td>3</td>\n      <td>Grumpier Old Men</td>\n      <td>[Comedy, Romance]</td>\n      <td>1995</td>\n    </tr>\n    <tr>\n      <th>3</th>\n      <td>4</td>\n      <td>Waiting to Exhale</td>\n      <td>[Comedy, Drama, Romance]</td>\n      <td>1995</td>\n    </tr>\n    <tr>\n      <th>4</th>\n      <td>5</td>\n      <td>Father of the Bride Part II</td>\n      <td>[Comedy]</td>\n      <td>1995</td>\n    </tr>\n  </tbody>\n</table>\n</div>"
                    },
                    "metadata": {}
                }
            ]
        },
        {
            "metadata": {},
            "cell_type": "markdown",
            "source": "Now, since keeping genres in a list format isn't optimal for the content-based recommendation system technique, I will convert the list of genres to a vector where each column corresponds to binary value of the feature.\n\n1 shows that a movie has that genre and\n0 shows that it doesn't.\n\nBut first I will copy the original dataframe into another variable since genres won't be important for our first recommendation system."
        },
        {
            "metadata": {},
            "cell_type": "code",
            "source": "# copy dataframe into a new variable\ngenresMovies_df = movies_df.copy()\n\n#For every row in the dataframe, iterate through the list of genres and place a 1 into the corresponding column\nfor index, row in movies_df.iterrows():\n    for genre in row['genres']:\n        genresMovies_df.at[index, genre] = 1\n         \n        \n#Filling in the NaN values with 0 to show that a movie doesn't have that column's genre\ngenresMovies_df = genresMovies_df.fillna(0)\n#genresMovies_df.astype(int)\n\ngenresMovies_df.head()",
            "execution_count": 24,
            "outputs": [
                {
                    "output_type": "execute_result",
                    "execution_count": 24,
                    "data": {
                        "text/plain": "   movieId                        title  \\\n0        1                    Toy Story   \n1        2                      Jumanji   \n2        3             Grumpier Old Men   \n3        4            Waiting to Exhale   \n4        5  Father of the Bride Part II   \n\n                                              genres  year  Adventure  \\\n0  [Adventure, Animation, Children, Comedy, Fantasy]  1995        1.0   \n1                     [Adventure, Children, Fantasy]  1995        1.0   \n2                                  [Comedy, Romance]  1995        0.0   \n3                           [Comedy, Drama, Romance]  1995        0.0   \n4                                           [Comedy]  1995        0.0   \n\n   Animation  Children  Comedy  Fantasy  Romance  ...  Horror  Mystery  \\\n0        1.0       1.0     1.0      1.0      0.0  ...     0.0      0.0   \n1        0.0       1.0     0.0      1.0      0.0  ...     0.0      0.0   \n2        0.0       0.0     1.0      0.0      1.0  ...     0.0      0.0   \n3        0.0       0.0     1.0      0.0      1.0  ...     0.0      0.0   \n4        0.0       0.0     1.0      0.0      0.0  ...     0.0      0.0   \n\n   Sci-Fi  IMAX  Documentary  War  Musical  Western  Film-Noir  \\\n0     0.0   0.0          0.0  0.0      0.0      0.0        0.0   \n1     0.0   0.0          0.0  0.0      0.0      0.0        0.0   \n2     0.0   0.0          0.0  0.0      0.0      0.0        0.0   \n3     0.0   0.0          0.0  0.0      0.0      0.0        0.0   \n4     0.0   0.0          0.0  0.0      0.0      0.0        0.0   \n\n   (no genres listed)  \n0                 0.0  \n1                 0.0  \n2                 0.0  \n3                 0.0  \n4                 0.0  \n\n[5 rows x 24 columns]",
                        "text/html": "<div>\n<style scoped>\n    .dataframe tbody tr th:only-of-type {\n        vertical-align: middle;\n    }\n\n    .dataframe tbody tr th {\n        vertical-align: top;\n    }\n\n    .dataframe thead th {\n        text-align: right;\n    }\n</style>\n<table border=\"1\" class=\"dataframe\">\n  <thead>\n    <tr style=\"text-align: right;\">\n      <th></th>\n      <th>movieId</th>\n      <th>title</th>\n      <th>genres</th>\n      <th>year</th>\n      <th>Adventure</th>\n      <th>Animation</th>\n      <th>Children</th>\n      <th>Comedy</th>\n      <th>Fantasy</th>\n      <th>Romance</th>\n      <th>...</th>\n      <th>Horror</th>\n      <th>Mystery</th>\n      <th>Sci-Fi</th>\n      <th>IMAX</th>\n      <th>Documentary</th>\n      <th>War</th>\n      <th>Musical</th>\n      <th>Western</th>\n      <th>Film-Noir</th>\n      <th>(no genres listed)</th>\n    </tr>\n  </thead>\n  <tbody>\n    <tr>\n      <th>0</th>\n      <td>1</td>\n      <td>Toy Story</td>\n      <td>[Adventure, Animation, Children, Comedy, Fantasy]</td>\n      <td>1995</td>\n      <td>1.0</td>\n      <td>1.0</td>\n      <td>1.0</td>\n      <td>1.0</td>\n      <td>1.0</td>\n      <td>0.0</td>\n      <td>...</td>\n      <td>0.0</td>\n      <td>0.0</td>\n      <td>0.0</td>\n      <td>0.0</td>\n      <td>0.0</td>\n      <td>0.0</td>\n      <td>0.0</td>\n      <td>0.0</td>\n      <td>0.0</td>\n      <td>0.0</td>\n    </tr>\n    <tr>\n      <th>1</th>\n      <td>2</td>\n      <td>Jumanji</td>\n      <td>[Adventure, Children, Fantasy]</td>\n      <td>1995</td>\n      <td>1.0</td>\n      <td>0.0</td>\n      <td>1.0</td>\n      <td>0.0</td>\n      <td>1.0</td>\n      <td>0.0</td>\n      <td>...</td>\n      <td>0.0</td>\n      <td>0.0</td>\n      <td>0.0</td>\n      <td>0.0</td>\n      <td>0.0</td>\n      <td>0.0</td>\n      <td>0.0</td>\n      <td>0.0</td>\n      <td>0.0</td>\n      <td>0.0</td>\n    </tr>\n    <tr>\n      <th>2</th>\n      <td>3</td>\n      <td>Grumpier Old Men</td>\n      <td>[Comedy, Romance]</td>\n      <td>1995</td>\n      <td>0.0</td>\n      <td>0.0</td>\n      <td>0.0</td>\n      <td>1.0</td>\n      <td>0.0</td>\n      <td>1.0</td>\n      <td>...</td>\n      <td>0.0</td>\n      <td>0.0</td>\n      <td>0.0</td>\n      <td>0.0</td>\n      <td>0.0</td>\n      <td>0.0</td>\n      <td>0.0</td>\n      <td>0.0</td>\n      <td>0.0</td>\n      <td>0.0</td>\n    </tr>\n    <tr>\n      <th>3</th>\n      <td>4</td>\n      <td>Waiting to Exhale</td>\n      <td>[Comedy, Drama, Romance]</td>\n      <td>1995</td>\n      <td>0.0</td>\n      <td>0.0</td>\n      <td>0.0</td>\n      <td>1.0</td>\n      <td>0.0</td>\n      <td>1.0</td>\n      <td>...</td>\n      <td>0.0</td>\n      <td>0.0</td>\n      <td>0.0</td>\n      <td>0.0</td>\n      <td>0.0</td>\n      <td>0.0</td>\n      <td>0.0</td>\n      <td>0.0</td>\n      <td>0.0</td>\n      <td>0.0</td>\n    </tr>\n    <tr>\n      <th>4</th>\n      <td>5</td>\n      <td>Father of the Bride Part II</td>\n      <td>[Comedy]</td>\n      <td>1995</td>\n      <td>0.0</td>\n      <td>0.0</td>\n      <td>0.0</td>\n      <td>1.0</td>\n      <td>0.0</td>\n      <td>0.0</td>\n      <td>...</td>\n      <td>0.0</td>\n      <td>0.0</td>\n      <td>0.0</td>\n      <td>0.0</td>\n      <td>0.0</td>\n      <td>0.0</td>\n      <td>0.0</td>\n      <td>0.0</td>\n      <td>0.0</td>\n      <td>0.0</td>\n    </tr>\n  </tbody>\n</table>\n<p>5 rows \u00d7 24 columns</p>\n</div>"
                    },
                    "metadata": {}
                }
            ]
        },
        {
            "metadata": {},
            "cell_type": "markdown",
            "source": "Check the user ratings dataframe"
        },
        {
            "metadata": {},
            "cell_type": "code",
            "source": "ratings_df.head()",
            "execution_count": 25,
            "outputs": [
                {
                    "output_type": "execute_result",
                    "execution_count": 25,
                    "data": {
                        "text/plain": "   userId  movieId  rating   timestamp\n0       1      169     2.5  1204927694\n1       1     2471     3.0  1204927438\n2       1    48516     5.0  1204927435\n3       2     2571     3.5  1436165433\n4       2   109487     4.0  1436165496",
                        "text/html": "<div>\n<style scoped>\n    .dataframe tbody tr th:only-of-type {\n        vertical-align: middle;\n    }\n\n    .dataframe tbody tr th {\n        vertical-align: top;\n    }\n\n    .dataframe thead th {\n        text-align: right;\n    }\n</style>\n<table border=\"1\" class=\"dataframe\">\n  <thead>\n    <tr style=\"text-align: right;\">\n      <th></th>\n      <th>userId</th>\n      <th>movieId</th>\n      <th>rating</th>\n      <th>timestamp</th>\n    </tr>\n  </thead>\n  <tbody>\n    <tr>\n      <th>0</th>\n      <td>1</td>\n      <td>169</td>\n      <td>2.5</td>\n      <td>1204927694</td>\n    </tr>\n    <tr>\n      <th>1</th>\n      <td>1</td>\n      <td>2471</td>\n      <td>3.0</td>\n      <td>1204927438</td>\n    </tr>\n    <tr>\n      <th>2</th>\n      <td>1</td>\n      <td>48516</td>\n      <td>5.0</td>\n      <td>1204927435</td>\n    </tr>\n    <tr>\n      <th>3</th>\n      <td>2</td>\n      <td>2571</td>\n      <td>3.5</td>\n      <td>1436165433</td>\n    </tr>\n    <tr>\n      <th>4</th>\n      <td>2</td>\n      <td>109487</td>\n      <td>4.0</td>\n      <td>1436165496</td>\n    </tr>\n  </tbody>\n</table>\n</div>"
                    },
                    "metadata": {}
                }
            ]
        },
        {
            "metadata": {},
            "cell_type": "markdown",
            "source": "I will not need timestamp column"
        },
        {
            "metadata": {},
            "cell_type": "code",
            "source": "# remove the timestamp column from dataframe\nratings_df = ratings_df.drop('timestamp', 1)\nratings_df.head()",
            "execution_count": 26,
            "outputs": [
                {
                    "output_type": "execute_result",
                    "execution_count": 26,
                    "data": {
                        "text/plain": "   userId  movieId  rating\n0       1      169     2.5\n1       1     2471     3.0\n2       1    48516     5.0\n3       2     2571     3.5\n4       2   109487     4.0",
                        "text/html": "<div>\n<style scoped>\n    .dataframe tbody tr th:only-of-type {\n        vertical-align: middle;\n    }\n\n    .dataframe tbody tr th {\n        vertical-align: top;\n    }\n\n    .dataframe thead th {\n        text-align: right;\n    }\n</style>\n<table border=\"1\" class=\"dataframe\">\n  <thead>\n    <tr style=\"text-align: right;\">\n      <th></th>\n      <th>userId</th>\n      <th>movieId</th>\n      <th>rating</th>\n    </tr>\n  </thead>\n  <tbody>\n    <tr>\n      <th>0</th>\n      <td>1</td>\n      <td>169</td>\n      <td>2.5</td>\n    </tr>\n    <tr>\n      <th>1</th>\n      <td>1</td>\n      <td>2471</td>\n      <td>3.0</td>\n    </tr>\n    <tr>\n      <th>2</th>\n      <td>1</td>\n      <td>48516</td>\n      <td>5.0</td>\n    </tr>\n    <tr>\n      <th>3</th>\n      <td>2</td>\n      <td>2571</td>\n      <td>3.5</td>\n    </tr>\n    <tr>\n      <th>4</th>\n      <td>2</td>\n      <td>109487</td>\n      <td>4.0</td>\n    </tr>\n  </tbody>\n</table>\n</div>"
                    },
                    "metadata": {}
                }
            ]
        },
        {
            "metadata": {},
            "cell_type": "markdown",
            "source": "<a id=\"ref3\"></a>\n\n# Content-Based recommendation system"
        },
        {
            "metadata": {},
            "cell_type": "markdown",
            "source": "Now, what a user's favourite aspects of an item is, I'm going to figure out the input's favorite genres from the movies and ratings given.\n\nFirst, creating an input user to recommend movies to:\n\nNotice: To add more movies, simply increase the amount of elements in the **userInput**. To add more in! write it in with capital letters and if a movie starts with a \"The\", like \"The Matrix\" then write it in like this: 'Matrix, The' ."
        },
        {
            "metadata": {},
            "cell_type": "code",
            "source": "userInput = [\n            {'title':'Breakfast Club, The', 'rating':5},\n            {'title':'Toy Story', 'rating':3.5},\n            {'title':'Jumanji', 'rating':2},\n            {'title':\"Pulp Fiction\", 'rating':5},\n            {'title':'Akira', 'rating':4.5}\n         ] \ninputMovies = pd.DataFrame(userInput)\ninputMovies",
            "execution_count": 27,
            "outputs": [
                {
                    "output_type": "execute_result",
                    "execution_count": 27,
                    "data": {
                        "text/plain": "                 title  rating\n0  Breakfast Club, The     5.0\n1            Toy Story     3.5\n2              Jumanji     2.0\n3         Pulp Fiction     5.0\n4                Akira     4.5",
                        "text/html": "<div>\n<style scoped>\n    .dataframe tbody tr th:only-of-type {\n        vertical-align: middle;\n    }\n\n    .dataframe tbody tr th {\n        vertical-align: top;\n    }\n\n    .dataframe thead th {\n        text-align: right;\n    }\n</style>\n<table border=\"1\" class=\"dataframe\">\n  <thead>\n    <tr style=\"text-align: right;\">\n      <th></th>\n      <th>title</th>\n      <th>rating</th>\n    </tr>\n  </thead>\n  <tbody>\n    <tr>\n      <th>0</th>\n      <td>Breakfast Club, The</td>\n      <td>5.0</td>\n    </tr>\n    <tr>\n      <th>1</th>\n      <td>Toy Story</td>\n      <td>3.5</td>\n    </tr>\n    <tr>\n      <th>2</th>\n      <td>Jumanji</td>\n      <td>2.0</td>\n    </tr>\n    <tr>\n      <th>3</th>\n      <td>Pulp Fiction</td>\n      <td>5.0</td>\n    </tr>\n    <tr>\n      <th>4</th>\n      <td>Akira</td>\n      <td>4.5</td>\n    </tr>\n  </tbody>\n</table>\n</div>"
                    },
                    "metadata": {}
                }
            ]
        },
        {
            "metadata": {},
            "cell_type": "markdown",
            "source": "#### Add movieId to input user\n\nNow extract the input movie's ID's from the movies dataframe and add them into it.\n\nWe can achieve this by first filtering out the rows that contain the input movie's title and then merging this subset with the input dataframe. We also drop unnecessary columns for the input to save memory space."
        },
        {
            "metadata": {},
            "cell_type": "code",
            "source": "#Filtering out the movies by title\ninputId = movies_df[movies_df['title'].isin(inputMovies['title'].tolist())]\ninputId\n",
            "execution_count": 28,
            "outputs": [
                {
                    "output_type": "execute_result",
                    "execution_count": 28,
                    "data": {
                        "text/plain": "      movieId                title  \\\n0           1            Toy Story   \n1           2              Jumanji   \n293       296         Pulp Fiction   \n1246     1274                Akira   \n1885     1968  Breakfast Club, The   \n\n                                                 genres  year  \n0     [Adventure, Animation, Children, Comedy, Fantasy]  1995  \n1                        [Adventure, Children, Fantasy]  1995  \n293                    [Comedy, Crime, Drama, Thriller]  1994  \n1246             [Action, Adventure, Animation, Sci-Fi]  1988  \n1885                                    [Comedy, Drama]  1985  ",
                        "text/html": "<div>\n<style scoped>\n    .dataframe tbody tr th:only-of-type {\n        vertical-align: middle;\n    }\n\n    .dataframe tbody tr th {\n        vertical-align: top;\n    }\n\n    .dataframe thead th {\n        text-align: right;\n    }\n</style>\n<table border=\"1\" class=\"dataframe\">\n  <thead>\n    <tr style=\"text-align: right;\">\n      <th></th>\n      <th>movieId</th>\n      <th>title</th>\n      <th>genres</th>\n      <th>year</th>\n    </tr>\n  </thead>\n  <tbody>\n    <tr>\n      <th>0</th>\n      <td>1</td>\n      <td>Toy Story</td>\n      <td>[Adventure, Animation, Children, Comedy, Fantasy]</td>\n      <td>1995</td>\n    </tr>\n    <tr>\n      <th>1</th>\n      <td>2</td>\n      <td>Jumanji</td>\n      <td>[Adventure, Children, Fantasy]</td>\n      <td>1995</td>\n    </tr>\n    <tr>\n      <th>293</th>\n      <td>296</td>\n      <td>Pulp Fiction</td>\n      <td>[Comedy, Crime, Drama, Thriller]</td>\n      <td>1994</td>\n    </tr>\n    <tr>\n      <th>1246</th>\n      <td>1274</td>\n      <td>Akira</td>\n      <td>[Action, Adventure, Animation, Sci-Fi]</td>\n      <td>1988</td>\n    </tr>\n    <tr>\n      <th>1885</th>\n      <td>1968</td>\n      <td>Breakfast Club, The</td>\n      <td>[Comedy, Drama]</td>\n      <td>1985</td>\n    </tr>\n  </tbody>\n</table>\n</div>"
                    },
                    "metadata": {}
                }
            ]
        },
        {
            "metadata": {},
            "cell_type": "code",
            "source": "#Then merging it so we can get the movieId. It's implicitly merging it by title.\ninputMovies = pd.merge(inputId, inputMovies)\ninputMovies",
            "execution_count": 29,
            "outputs": [
                {
                    "output_type": "execute_result",
                    "execution_count": 29,
                    "data": {
                        "text/plain": "   movieId                title  \\\n0        1            Toy Story   \n1        2              Jumanji   \n2      296         Pulp Fiction   \n3     1274                Akira   \n4     1968  Breakfast Club, The   \n\n                                              genres  year  rating  \n0  [Adventure, Animation, Children, Comedy, Fantasy]  1995     3.5  \n1                     [Adventure, Children, Fantasy]  1995     2.0  \n2                   [Comedy, Crime, Drama, Thriller]  1994     5.0  \n3             [Action, Adventure, Animation, Sci-Fi]  1988     4.5  \n4                                    [Comedy, Drama]  1985     5.0  ",
                        "text/html": "<div>\n<style scoped>\n    .dataframe tbody tr th:only-of-type {\n        vertical-align: middle;\n    }\n\n    .dataframe tbody tr th {\n        vertical-align: top;\n    }\n\n    .dataframe thead th {\n        text-align: right;\n    }\n</style>\n<table border=\"1\" class=\"dataframe\">\n  <thead>\n    <tr style=\"text-align: right;\">\n      <th></th>\n      <th>movieId</th>\n      <th>title</th>\n      <th>genres</th>\n      <th>year</th>\n      <th>rating</th>\n    </tr>\n  </thead>\n  <tbody>\n    <tr>\n      <th>0</th>\n      <td>1</td>\n      <td>Toy Story</td>\n      <td>[Adventure, Animation, Children, Comedy, Fantasy]</td>\n      <td>1995</td>\n      <td>3.5</td>\n    </tr>\n    <tr>\n      <th>1</th>\n      <td>2</td>\n      <td>Jumanji</td>\n      <td>[Adventure, Children, Fantasy]</td>\n      <td>1995</td>\n      <td>2.0</td>\n    </tr>\n    <tr>\n      <th>2</th>\n      <td>296</td>\n      <td>Pulp Fiction</td>\n      <td>[Comedy, Crime, Drama, Thriller]</td>\n      <td>1994</td>\n      <td>5.0</td>\n    </tr>\n    <tr>\n      <th>3</th>\n      <td>1274</td>\n      <td>Akira</td>\n      <td>[Action, Adventure, Animation, Sci-Fi]</td>\n      <td>1988</td>\n      <td>4.5</td>\n    </tr>\n    <tr>\n      <th>4</th>\n      <td>1968</td>\n      <td>Breakfast Club, The</td>\n      <td>[Comedy, Drama]</td>\n      <td>1985</td>\n      <td>5.0</td>\n    </tr>\n  </tbody>\n</table>\n</div>"
                    },
                    "metadata": {}
                }
            ]
        },
        {
            "metadata": {},
            "cell_type": "code",
            "source": "#Dropping information we won't use from the input dataframe\ninputMovies = inputMovies.drop('genres', 1).drop('year', 1)\n\n#Final input dataframe\ninputMovies",
            "execution_count": 30,
            "outputs": [
                {
                    "output_type": "execute_result",
                    "execution_count": 30,
                    "data": {
                        "text/plain": "   movieId                title  rating\n0        1            Toy Story     3.5\n1        2              Jumanji     2.0\n2      296         Pulp Fiction     5.0\n3     1274                Akira     4.5\n4     1968  Breakfast Club, The     5.0",
                        "text/html": "<div>\n<style scoped>\n    .dataframe tbody tr th:only-of-type {\n        vertical-align: middle;\n    }\n\n    .dataframe tbody tr th {\n        vertical-align: top;\n    }\n\n    .dataframe thead th {\n        text-align: right;\n    }\n</style>\n<table border=\"1\" class=\"dataframe\">\n  <thead>\n    <tr style=\"text-align: right;\">\n      <th></th>\n      <th>movieId</th>\n      <th>title</th>\n      <th>rating</th>\n    </tr>\n  </thead>\n  <tbody>\n    <tr>\n      <th>0</th>\n      <td>1</td>\n      <td>Toy Story</td>\n      <td>3.5</td>\n    </tr>\n    <tr>\n      <th>1</th>\n      <td>2</td>\n      <td>Jumanji</td>\n      <td>2.0</td>\n    </tr>\n    <tr>\n      <th>2</th>\n      <td>296</td>\n      <td>Pulp Fiction</td>\n      <td>5.0</td>\n    </tr>\n    <tr>\n      <th>3</th>\n      <td>1274</td>\n      <td>Akira</td>\n      <td>4.5</td>\n    </tr>\n    <tr>\n      <th>4</th>\n      <td>1968</td>\n      <td>Breakfast Club, The</td>\n      <td>5.0</td>\n    </tr>\n  </tbody>\n</table>\n</div>"
                    },
                    "metadata": {}
                }
            ]
        },
        {
            "metadata": {},
            "cell_type": "code",
            "source": "#Filtering out the movies from the input\nuserMovies = genresMovies_df[genresMovies_df['movieId'].isin(inputMovies['movieId'].tolist())]\n\n#Resetting the index to avoid future issues\nuserMovies = userMovies.reset_index(drop=True)\nuserMovies",
            "execution_count": 36,
            "outputs": [
                {
                    "output_type": "execute_result",
                    "execution_count": 36,
                    "data": {
                        "text/plain": "   movieId                title  \\\n0        1            Toy Story   \n1        2              Jumanji   \n2      296         Pulp Fiction   \n3     1274                Akira   \n4     1968  Breakfast Club, The   \n\n                                              genres  year  Adventure  \\\n0  [Adventure, Animation, Children, Comedy, Fantasy]  1995        1.0   \n1                     [Adventure, Children, Fantasy]  1995        1.0   \n2                   [Comedy, Crime, Drama, Thriller]  1994        0.0   \n3             [Action, Adventure, Animation, Sci-Fi]  1988        1.0   \n4                                    [Comedy, Drama]  1985        0.0   \n\n   Animation  Children  Comedy  Fantasy  Romance  ...  Horror  Mystery  \\\n0        1.0       1.0     1.0      1.0      0.0  ...     0.0      0.0   \n1        0.0       1.0     0.0      1.0      0.0  ...     0.0      0.0   \n2        0.0       0.0     1.0      0.0      0.0  ...     0.0      0.0   \n3        1.0       0.0     0.0      0.0      0.0  ...     0.0      0.0   \n4        0.0       0.0     1.0      0.0      0.0  ...     0.0      0.0   \n\n   Sci-Fi  IMAX  Documentary  War  Musical  Western  Film-Noir  \\\n0     0.0   0.0          0.0  0.0      0.0      0.0        0.0   \n1     0.0   0.0          0.0  0.0      0.0      0.0        0.0   \n2     0.0   0.0          0.0  0.0      0.0      0.0        0.0   \n3     1.0   0.0          0.0  0.0      0.0      0.0        0.0   \n4     0.0   0.0          0.0  0.0      0.0      0.0        0.0   \n\n   (no genres listed)  \n0                 0.0  \n1                 0.0  \n2                 0.0  \n3                 0.0  \n4                 0.0  \n\n[5 rows x 24 columns]",
                        "text/html": "<div>\n<style scoped>\n    .dataframe tbody tr th:only-of-type {\n        vertical-align: middle;\n    }\n\n    .dataframe tbody tr th {\n        vertical-align: top;\n    }\n\n    .dataframe thead th {\n        text-align: right;\n    }\n</style>\n<table border=\"1\" class=\"dataframe\">\n  <thead>\n    <tr style=\"text-align: right;\">\n      <th></th>\n      <th>movieId</th>\n      <th>title</th>\n      <th>genres</th>\n      <th>year</th>\n      <th>Adventure</th>\n      <th>Animation</th>\n      <th>Children</th>\n      <th>Comedy</th>\n      <th>Fantasy</th>\n      <th>Romance</th>\n      <th>...</th>\n      <th>Horror</th>\n      <th>Mystery</th>\n      <th>Sci-Fi</th>\n      <th>IMAX</th>\n      <th>Documentary</th>\n      <th>War</th>\n      <th>Musical</th>\n      <th>Western</th>\n      <th>Film-Noir</th>\n      <th>(no genres listed)</th>\n    </tr>\n  </thead>\n  <tbody>\n    <tr>\n      <th>0</th>\n      <td>1</td>\n      <td>Toy Story</td>\n      <td>[Adventure, Animation, Children, Comedy, Fantasy]</td>\n      <td>1995</td>\n      <td>1.0</td>\n      <td>1.0</td>\n      <td>1.0</td>\n      <td>1.0</td>\n      <td>1.0</td>\n      <td>0.0</td>\n      <td>...</td>\n      <td>0.0</td>\n      <td>0.0</td>\n      <td>0.0</td>\n      <td>0.0</td>\n      <td>0.0</td>\n      <td>0.0</td>\n      <td>0.0</td>\n      <td>0.0</td>\n      <td>0.0</td>\n      <td>0.0</td>\n    </tr>\n    <tr>\n      <th>1</th>\n      <td>2</td>\n      <td>Jumanji</td>\n      <td>[Adventure, Children, Fantasy]</td>\n      <td>1995</td>\n      <td>1.0</td>\n      <td>0.0</td>\n      <td>1.0</td>\n      <td>0.0</td>\n      <td>1.0</td>\n      <td>0.0</td>\n      <td>...</td>\n      <td>0.0</td>\n      <td>0.0</td>\n      <td>0.0</td>\n      <td>0.0</td>\n      <td>0.0</td>\n      <td>0.0</td>\n      <td>0.0</td>\n      <td>0.0</td>\n      <td>0.0</td>\n      <td>0.0</td>\n    </tr>\n    <tr>\n      <th>2</th>\n      <td>296</td>\n      <td>Pulp Fiction</td>\n      <td>[Comedy, Crime, Drama, Thriller]</td>\n      <td>1994</td>\n      <td>0.0</td>\n      <td>0.0</td>\n      <td>0.0</td>\n      <td>1.0</td>\n      <td>0.0</td>\n      <td>0.0</td>\n      <td>...</td>\n      <td>0.0</td>\n      <td>0.0</td>\n      <td>0.0</td>\n      <td>0.0</td>\n      <td>0.0</td>\n      <td>0.0</td>\n      <td>0.0</td>\n      <td>0.0</td>\n      <td>0.0</td>\n      <td>0.0</td>\n    </tr>\n    <tr>\n      <th>3</th>\n      <td>1274</td>\n      <td>Akira</td>\n      <td>[Action, Adventure, Animation, Sci-Fi]</td>\n      <td>1988</td>\n      <td>1.0</td>\n      <td>1.0</td>\n      <td>0.0</td>\n      <td>0.0</td>\n      <td>0.0</td>\n      <td>0.0</td>\n      <td>...</td>\n      <td>0.0</td>\n      <td>0.0</td>\n      <td>1.0</td>\n      <td>0.0</td>\n      <td>0.0</td>\n      <td>0.0</td>\n      <td>0.0</td>\n      <td>0.0</td>\n      <td>0.0</td>\n      <td>0.0</td>\n    </tr>\n    <tr>\n      <th>4</th>\n      <td>1968</td>\n      <td>Breakfast Club, The</td>\n      <td>[Comedy, Drama]</td>\n      <td>1985</td>\n      <td>0.0</td>\n      <td>0.0</td>\n      <td>0.0</td>\n      <td>1.0</td>\n      <td>0.0</td>\n      <td>0.0</td>\n      <td>...</td>\n      <td>0.0</td>\n      <td>0.0</td>\n      <td>0.0</td>\n      <td>0.0</td>\n      <td>0.0</td>\n      <td>0.0</td>\n      <td>0.0</td>\n      <td>0.0</td>\n      <td>0.0</td>\n      <td>0.0</td>\n    </tr>\n  </tbody>\n</table>\n<p>5 rows \u00d7 24 columns</p>\n</div>"
                    },
                    "metadata": {}
                }
            ]
        },
        {
            "metadata": {},
            "cell_type": "markdown",
            "source": "We'll only need the actual genre table, I'll clean this up by resetting the index and dropping the movieId, title, genres and year columns."
        },
        {
            "metadata": {},
            "cell_type": "code",
            "source": "#Resetting the index to avoid future issues\nuserMovies = userMovies.reset_index(drop=True)\nuserMovies",
            "execution_count": 38,
            "outputs": [
                {
                    "output_type": "execute_result",
                    "execution_count": 38,
                    "data": {
                        "text/plain": "   movieId                title  \\\n0        1            Toy Story   \n1        2              Jumanji   \n2      296         Pulp Fiction   \n3     1274                Akira   \n4     1968  Breakfast Club, The   \n\n                                              genres  year  Adventure  \\\n0  [Adventure, Animation, Children, Comedy, Fantasy]  1995        1.0   \n1                     [Adventure, Children, Fantasy]  1995        1.0   \n2                   [Comedy, Crime, Drama, Thriller]  1994        0.0   \n3             [Action, Adventure, Animation, Sci-Fi]  1988        1.0   \n4                                    [Comedy, Drama]  1985        0.0   \n\n   Animation  Children  Comedy  Fantasy  Romance  ...  Horror  Mystery  \\\n0        1.0       1.0     1.0      1.0      0.0  ...     0.0      0.0   \n1        0.0       1.0     0.0      1.0      0.0  ...     0.0      0.0   \n2        0.0       0.0     1.0      0.0      0.0  ...     0.0      0.0   \n3        1.0       0.0     0.0      0.0      0.0  ...     0.0      0.0   \n4        0.0       0.0     1.0      0.0      0.0  ...     0.0      0.0   \n\n   Sci-Fi  IMAX  Documentary  War  Musical  Western  Film-Noir  \\\n0     0.0   0.0          0.0  0.0      0.0      0.0        0.0   \n1     0.0   0.0          0.0  0.0      0.0      0.0        0.0   \n2     0.0   0.0          0.0  0.0      0.0      0.0        0.0   \n3     1.0   0.0          0.0  0.0      0.0      0.0        0.0   \n4     0.0   0.0          0.0  0.0      0.0      0.0        0.0   \n\n   (no genres listed)  \n0                 0.0  \n1                 0.0  \n2                 0.0  \n3                 0.0  \n4                 0.0  \n\n[5 rows x 24 columns]",
                        "text/html": "<div>\n<style scoped>\n    .dataframe tbody tr th:only-of-type {\n        vertical-align: middle;\n    }\n\n    .dataframe tbody tr th {\n        vertical-align: top;\n    }\n\n    .dataframe thead th {\n        text-align: right;\n    }\n</style>\n<table border=\"1\" class=\"dataframe\">\n  <thead>\n    <tr style=\"text-align: right;\">\n      <th></th>\n      <th>movieId</th>\n      <th>title</th>\n      <th>genres</th>\n      <th>year</th>\n      <th>Adventure</th>\n      <th>Animation</th>\n      <th>Children</th>\n      <th>Comedy</th>\n      <th>Fantasy</th>\n      <th>Romance</th>\n      <th>...</th>\n      <th>Horror</th>\n      <th>Mystery</th>\n      <th>Sci-Fi</th>\n      <th>IMAX</th>\n      <th>Documentary</th>\n      <th>War</th>\n      <th>Musical</th>\n      <th>Western</th>\n      <th>Film-Noir</th>\n      <th>(no genres listed)</th>\n    </tr>\n  </thead>\n  <tbody>\n    <tr>\n      <th>0</th>\n      <td>1</td>\n      <td>Toy Story</td>\n      <td>[Adventure, Animation, Children, Comedy, Fantasy]</td>\n      <td>1995</td>\n      <td>1.0</td>\n      <td>1.0</td>\n      <td>1.0</td>\n      <td>1.0</td>\n      <td>1.0</td>\n      <td>0.0</td>\n      <td>...</td>\n      <td>0.0</td>\n      <td>0.0</td>\n      <td>0.0</td>\n      <td>0.0</td>\n      <td>0.0</td>\n      <td>0.0</td>\n      <td>0.0</td>\n      <td>0.0</td>\n      <td>0.0</td>\n      <td>0.0</td>\n    </tr>\n    <tr>\n      <th>1</th>\n      <td>2</td>\n      <td>Jumanji</td>\n      <td>[Adventure, Children, Fantasy]</td>\n      <td>1995</td>\n      <td>1.0</td>\n      <td>0.0</td>\n      <td>1.0</td>\n      <td>0.0</td>\n      <td>1.0</td>\n      <td>0.0</td>\n      <td>...</td>\n      <td>0.0</td>\n      <td>0.0</td>\n      <td>0.0</td>\n      <td>0.0</td>\n      <td>0.0</td>\n      <td>0.0</td>\n      <td>0.0</td>\n      <td>0.0</td>\n      <td>0.0</td>\n      <td>0.0</td>\n    </tr>\n    <tr>\n      <th>2</th>\n      <td>296</td>\n      <td>Pulp Fiction</td>\n      <td>[Comedy, Crime, Drama, Thriller]</td>\n      <td>1994</td>\n      <td>0.0</td>\n      <td>0.0</td>\n      <td>0.0</td>\n      <td>1.0</td>\n      <td>0.0</td>\n      <td>0.0</td>\n      <td>...</td>\n      <td>0.0</td>\n      <td>0.0</td>\n      <td>0.0</td>\n      <td>0.0</td>\n      <td>0.0</td>\n      <td>0.0</td>\n      <td>0.0</td>\n      <td>0.0</td>\n      <td>0.0</td>\n      <td>0.0</td>\n    </tr>\n    <tr>\n      <th>3</th>\n      <td>1274</td>\n      <td>Akira</td>\n      <td>[Action, Adventure, Animation, Sci-Fi]</td>\n      <td>1988</td>\n      <td>1.0</td>\n      <td>1.0</td>\n      <td>0.0</td>\n      <td>0.0</td>\n      <td>0.0</td>\n      <td>0.0</td>\n      <td>...</td>\n      <td>0.0</td>\n      <td>0.0</td>\n      <td>1.0</td>\n      <td>0.0</td>\n      <td>0.0</td>\n      <td>0.0</td>\n      <td>0.0</td>\n      <td>0.0</td>\n      <td>0.0</td>\n      <td>0.0</td>\n    </tr>\n    <tr>\n      <th>4</th>\n      <td>1968</td>\n      <td>Breakfast Club, The</td>\n      <td>[Comedy, Drama]</td>\n      <td>1985</td>\n      <td>0.0</td>\n      <td>0.0</td>\n      <td>0.0</td>\n      <td>1.0</td>\n      <td>0.0</td>\n      <td>0.0</td>\n      <td>...</td>\n      <td>0.0</td>\n      <td>0.0</td>\n      <td>0.0</td>\n      <td>0.0</td>\n      <td>0.0</td>\n      <td>0.0</td>\n      <td>0.0</td>\n      <td>0.0</td>\n      <td>0.0</td>\n      <td>0.0</td>\n    </tr>\n  </tbody>\n</table>\n<p>5 rows \u00d7 24 columns</p>\n</div>"
                    },
                    "metadata": {}
                }
            ]
        },
        {
            "metadata": {},
            "cell_type": "code",
            "source": "#Dropping unnecessary issues due to save memory and to avoid issues\nuserGenreTable = userMovies.drop('movieId', 1).drop('title', 1).drop('genres', 1).drop('year', 1)\nuserGenreTable",
            "execution_count": 39,
            "outputs": [
                {
                    "output_type": "execute_result",
                    "execution_count": 39,
                    "data": {
                        "text/plain": "   Adventure  Animation  Children  Comedy  Fantasy  Romance  Drama  Action  \\\n0        1.0        1.0       1.0     1.0      1.0      0.0    0.0     0.0   \n1        1.0        0.0       1.0     0.0      1.0      0.0    0.0     0.0   \n2        0.0        0.0       0.0     1.0      0.0      0.0    1.0     0.0   \n3        1.0        1.0       0.0     0.0      0.0      0.0    0.0     1.0   \n4        0.0        0.0       0.0     1.0      0.0      0.0    1.0     0.0   \n\n   Crime  Thriller  Horror  Mystery  Sci-Fi  IMAX  Documentary  War  Musical  \\\n0    0.0       0.0     0.0      0.0     0.0   0.0          0.0  0.0      0.0   \n1    0.0       0.0     0.0      0.0     0.0   0.0          0.0  0.0      0.0   \n2    1.0       1.0     0.0      0.0     0.0   0.0          0.0  0.0      0.0   \n3    0.0       0.0     0.0      0.0     1.0   0.0          0.0  0.0      0.0   \n4    0.0       0.0     0.0      0.0     0.0   0.0          0.0  0.0      0.0   \n\n   Western  Film-Noir  (no genres listed)  \n0      0.0        0.0                 0.0  \n1      0.0        0.0                 0.0  \n2      0.0        0.0                 0.0  \n3      0.0        0.0                 0.0  \n4      0.0        0.0                 0.0  ",
                        "text/html": "<div>\n<style scoped>\n    .dataframe tbody tr th:only-of-type {\n        vertical-align: middle;\n    }\n\n    .dataframe tbody tr th {\n        vertical-align: top;\n    }\n\n    .dataframe thead th {\n        text-align: right;\n    }\n</style>\n<table border=\"1\" class=\"dataframe\">\n  <thead>\n    <tr style=\"text-align: right;\">\n      <th></th>\n      <th>Adventure</th>\n      <th>Animation</th>\n      <th>Children</th>\n      <th>Comedy</th>\n      <th>Fantasy</th>\n      <th>Romance</th>\n      <th>Drama</th>\n      <th>Action</th>\n      <th>Crime</th>\n      <th>Thriller</th>\n      <th>Horror</th>\n      <th>Mystery</th>\n      <th>Sci-Fi</th>\n      <th>IMAX</th>\n      <th>Documentary</th>\n      <th>War</th>\n      <th>Musical</th>\n      <th>Western</th>\n      <th>Film-Noir</th>\n      <th>(no genres listed)</th>\n    </tr>\n  </thead>\n  <tbody>\n    <tr>\n      <th>0</th>\n      <td>1.0</td>\n      <td>1.0</td>\n      <td>1.0</td>\n      <td>1.0</td>\n      <td>1.0</td>\n      <td>0.0</td>\n      <td>0.0</td>\n      <td>0.0</td>\n      <td>0.0</td>\n      <td>0.0</td>\n      <td>0.0</td>\n      <td>0.0</td>\n      <td>0.0</td>\n      <td>0.0</td>\n      <td>0.0</td>\n      <td>0.0</td>\n      <td>0.0</td>\n      <td>0.0</td>\n      <td>0.0</td>\n      <td>0.0</td>\n    </tr>\n    <tr>\n      <th>1</th>\n      <td>1.0</td>\n      <td>0.0</td>\n      <td>1.0</td>\n      <td>0.0</td>\n      <td>1.0</td>\n      <td>0.0</td>\n      <td>0.0</td>\n      <td>0.0</td>\n      <td>0.0</td>\n      <td>0.0</td>\n      <td>0.0</td>\n      <td>0.0</td>\n      <td>0.0</td>\n      <td>0.0</td>\n      <td>0.0</td>\n      <td>0.0</td>\n      <td>0.0</td>\n      <td>0.0</td>\n      <td>0.0</td>\n      <td>0.0</td>\n    </tr>\n    <tr>\n      <th>2</th>\n      <td>0.0</td>\n      <td>0.0</td>\n      <td>0.0</td>\n      <td>1.0</td>\n      <td>0.0</td>\n      <td>0.0</td>\n      <td>1.0</td>\n      <td>0.0</td>\n      <td>1.0</td>\n      <td>1.0</td>\n      <td>0.0</td>\n      <td>0.0</td>\n      <td>0.0</td>\n      <td>0.0</td>\n      <td>0.0</td>\n      <td>0.0</td>\n      <td>0.0</td>\n      <td>0.0</td>\n      <td>0.0</td>\n      <td>0.0</td>\n    </tr>\n    <tr>\n      <th>3</th>\n      <td>1.0</td>\n      <td>1.0</td>\n      <td>0.0</td>\n      <td>0.0</td>\n      <td>0.0</td>\n      <td>0.0</td>\n      <td>0.0</td>\n      <td>1.0</td>\n      <td>0.0</td>\n      <td>0.0</td>\n      <td>0.0</td>\n      <td>0.0</td>\n      <td>1.0</td>\n      <td>0.0</td>\n      <td>0.0</td>\n      <td>0.0</td>\n      <td>0.0</td>\n      <td>0.0</td>\n      <td>0.0</td>\n      <td>0.0</td>\n    </tr>\n    <tr>\n      <th>4</th>\n      <td>0.0</td>\n      <td>0.0</td>\n      <td>0.0</td>\n      <td>1.0</td>\n      <td>0.0</td>\n      <td>0.0</td>\n      <td>1.0</td>\n      <td>0.0</td>\n      <td>0.0</td>\n      <td>0.0</td>\n      <td>0.0</td>\n      <td>0.0</td>\n      <td>0.0</td>\n      <td>0.0</td>\n      <td>0.0</td>\n      <td>0.0</td>\n      <td>0.0</td>\n      <td>0.0</td>\n      <td>0.0</td>\n      <td>0.0</td>\n    </tr>\n  </tbody>\n</table>\n</div>"
                    },
                    "metadata": {}
                }
            ]
        },
        {
            "metadata": {},
            "cell_type": "markdown",
            "source": "Now it's ready to start learning the input's preferences!\n\nFirst, turn each genre into weights using the input's reviews and multiplying them into the input's genre table. Than summing up the resulting table by column. "
        },
        {
            "metadata": {},
            "cell_type": "code",
            "source": "# rating preferences\ninputMovies['rating']",
            "execution_count": 40,
            "outputs": [
                {
                    "output_type": "execute_result",
                    "execution_count": 40,
                    "data": {
                        "text/plain": "0    3.5\n1    2.0\n2    5.0\n3    4.5\n4    5.0\nName: rating, dtype: float64"
                    },
                    "metadata": {}
                }
            ]
        },
        {
            "metadata": {},
            "cell_type": "code",
            "source": "# the weights for every of the user's prefereces\nuserProfile = userGenreTable.transpose().dot(inputMovies['rating'])\nuserProfile",
            "execution_count": 41,
            "outputs": [
                {
                    "output_type": "execute_result",
                    "execution_count": 41,
                    "data": {
                        "text/plain": "Adventure             10.0\nAnimation              8.0\nChildren               5.5\nComedy                13.5\nFantasy                5.5\nRomance                0.0\nDrama                 10.0\nAction                 4.5\nCrime                  5.0\nThriller               5.0\nHorror                 0.0\nMystery                0.0\nSci-Fi                 4.5\nIMAX                   0.0\nDocumentary            0.0\nWar                    0.0\nMusical                0.0\nWestern                0.0\nFilm-Noir              0.0\n(no genres listed)     0.0\ndtype: float64"
                    },
                    "metadata": {}
                }
            ]
        },
        {
            "metadata": {},
            "cell_type": "code",
            "source": "# drop the unnecessary information from original dataframe\ngenreTable = genresMovies_df.set_index(genresMovies_df['movieId'])\ngenreTable = genreTable.drop('movieId', 1).drop('title', 1).drop('genres', 1).drop('year', 1)\ngenreTable.head()",
            "execution_count": 45,
            "outputs": [
                {
                    "output_type": "execute_result",
                    "execution_count": 45,
                    "data": {
                        "text/plain": "         Adventure  Animation  Children  Comedy  Fantasy  Romance  Drama  \\\nmovieId                                                                    \n1              1.0        1.0       1.0     1.0      1.0      0.0    0.0   \n2              1.0        0.0       1.0     0.0      1.0      0.0    0.0   \n3              0.0        0.0       0.0     1.0      0.0      1.0    0.0   \n4              0.0        0.0       0.0     1.0      0.0      1.0    1.0   \n5              0.0        0.0       0.0     1.0      0.0      0.0    0.0   \n\n         Action  Crime  Thriller  Horror  Mystery  Sci-Fi  IMAX  Documentary  \\\nmovieId                                                                        \n1           0.0    0.0       0.0     0.0      0.0     0.0   0.0          0.0   \n2           0.0    0.0       0.0     0.0      0.0     0.0   0.0          0.0   \n3           0.0    0.0       0.0     0.0      0.0     0.0   0.0          0.0   \n4           0.0    0.0       0.0     0.0      0.0     0.0   0.0          0.0   \n5           0.0    0.0       0.0     0.0      0.0     0.0   0.0          0.0   \n\n         War  Musical  Western  Film-Noir  (no genres listed)  \nmovieId                                                        \n1        0.0      0.0      0.0        0.0                 0.0  \n2        0.0      0.0      0.0        0.0                 0.0  \n3        0.0      0.0      0.0        0.0                 0.0  \n4        0.0      0.0      0.0        0.0                 0.0  \n5        0.0      0.0      0.0        0.0                 0.0  ",
                        "text/html": "<div>\n<style scoped>\n    .dataframe tbody tr th:only-of-type {\n        vertical-align: middle;\n    }\n\n    .dataframe tbody tr th {\n        vertical-align: top;\n    }\n\n    .dataframe thead th {\n        text-align: right;\n    }\n</style>\n<table border=\"1\" class=\"dataframe\">\n  <thead>\n    <tr style=\"text-align: right;\">\n      <th></th>\n      <th>Adventure</th>\n      <th>Animation</th>\n      <th>Children</th>\n      <th>Comedy</th>\n      <th>Fantasy</th>\n      <th>Romance</th>\n      <th>Drama</th>\n      <th>Action</th>\n      <th>Crime</th>\n      <th>Thriller</th>\n      <th>Horror</th>\n      <th>Mystery</th>\n      <th>Sci-Fi</th>\n      <th>IMAX</th>\n      <th>Documentary</th>\n      <th>War</th>\n      <th>Musical</th>\n      <th>Western</th>\n      <th>Film-Noir</th>\n      <th>(no genres listed)</th>\n    </tr>\n    <tr>\n      <th>movieId</th>\n      <th></th>\n      <th></th>\n      <th></th>\n      <th></th>\n      <th></th>\n      <th></th>\n      <th></th>\n      <th></th>\n      <th></th>\n      <th></th>\n      <th></th>\n      <th></th>\n      <th></th>\n      <th></th>\n      <th></th>\n      <th></th>\n      <th></th>\n      <th></th>\n      <th></th>\n      <th></th>\n    </tr>\n  </thead>\n  <tbody>\n    <tr>\n      <th>1</th>\n      <td>1.0</td>\n      <td>1.0</td>\n      <td>1.0</td>\n      <td>1.0</td>\n      <td>1.0</td>\n      <td>0.0</td>\n      <td>0.0</td>\n      <td>0.0</td>\n      <td>0.0</td>\n      <td>0.0</td>\n      <td>0.0</td>\n      <td>0.0</td>\n      <td>0.0</td>\n      <td>0.0</td>\n      <td>0.0</td>\n      <td>0.0</td>\n      <td>0.0</td>\n      <td>0.0</td>\n      <td>0.0</td>\n      <td>0.0</td>\n    </tr>\n    <tr>\n      <th>2</th>\n      <td>1.0</td>\n      <td>0.0</td>\n      <td>1.0</td>\n      <td>0.0</td>\n      <td>1.0</td>\n      <td>0.0</td>\n      <td>0.0</td>\n      <td>0.0</td>\n      <td>0.0</td>\n      <td>0.0</td>\n      <td>0.0</td>\n      <td>0.0</td>\n      <td>0.0</td>\n      <td>0.0</td>\n      <td>0.0</td>\n      <td>0.0</td>\n      <td>0.0</td>\n      <td>0.0</td>\n      <td>0.0</td>\n      <td>0.0</td>\n    </tr>\n    <tr>\n      <th>3</th>\n      <td>0.0</td>\n      <td>0.0</td>\n      <td>0.0</td>\n      <td>1.0</td>\n      <td>0.0</td>\n      <td>1.0</td>\n      <td>0.0</td>\n      <td>0.0</td>\n      <td>0.0</td>\n      <td>0.0</td>\n      <td>0.0</td>\n      <td>0.0</td>\n      <td>0.0</td>\n      <td>0.0</td>\n      <td>0.0</td>\n      <td>0.0</td>\n      <td>0.0</td>\n      <td>0.0</td>\n      <td>0.0</td>\n      <td>0.0</td>\n    </tr>\n    <tr>\n      <th>4</th>\n      <td>0.0</td>\n      <td>0.0</td>\n      <td>0.0</td>\n      <td>1.0</td>\n      <td>0.0</td>\n      <td>1.0</td>\n      <td>1.0</td>\n      <td>0.0</td>\n      <td>0.0</td>\n      <td>0.0</td>\n      <td>0.0</td>\n      <td>0.0</td>\n      <td>0.0</td>\n      <td>0.0</td>\n      <td>0.0</td>\n      <td>0.0</td>\n      <td>0.0</td>\n      <td>0.0</td>\n      <td>0.0</td>\n      <td>0.0</td>\n    </tr>\n    <tr>\n      <th>5</th>\n      <td>0.0</td>\n      <td>0.0</td>\n      <td>0.0</td>\n      <td>1.0</td>\n      <td>0.0</td>\n      <td>0.0</td>\n      <td>0.0</td>\n      <td>0.0</td>\n      <td>0.0</td>\n      <td>0.0</td>\n      <td>0.0</td>\n      <td>0.0</td>\n      <td>0.0</td>\n      <td>0.0</td>\n      <td>0.0</td>\n      <td>0.0</td>\n      <td>0.0</td>\n      <td>0.0</td>\n      <td>0.0</td>\n      <td>0.0</td>\n    </tr>\n  </tbody>\n</table>\n</div>"
                    },
                    "metadata": {}
                }
            ]
        },
        {
            "metadata": {},
            "cell_type": "code",
            "source": "print(genreTable.shape)",
            "execution_count": 46,
            "outputs": [
                {
                    "output_type": "stream",
                    "text": "(34208, 20)\n",
                    "name": "stdout"
                }
            ]
        },
        {
            "metadata": {},
            "cell_type": "markdown",
            "source": "With the input's profile and the complete list of movies and their genres , I'm going to take the weighted average of every movie based on the input profile and recommend the top twenty movies that most satisfy it."
        },
        {
            "metadata": {},
            "cell_type": "code",
            "source": "#Multiply the genres by the weights and then take the weighted average\nrecommendationTable_df = ((genreTable*userProfile).sum(axis=1))/(userProfile.sum())\nrecommendationTable_df.head()",
            "execution_count": 47,
            "outputs": [
                {
                    "output_type": "execute_result",
                    "execution_count": 47,
                    "data": {
                        "text/plain": "movieId\n1    0.594406\n2    0.293706\n3    0.188811\n4    0.328671\n5    0.188811\ndtype: float64"
                    },
                    "metadata": {}
                }
            ]
        },
        {
            "metadata": {},
            "cell_type": "code",
            "source": "#Sort recommendations in descending order\nrecommendationTable_df = recommendationTable_df.sort_values(ascending=False)\n\nrecommendationTable_df.head()",
            "execution_count": 49,
            "outputs": [
                {
                    "output_type": "execute_result",
                    "execution_count": 49,
                    "data": {
                        "text/plain": "movieId\n5018      0.748252\n26093     0.734266\n27344     0.720280\n148775    0.685315\n6902      0.678322\ndtype: float64"
                    },
                    "metadata": {}
                }
            ]
        },
        {
            "metadata": {},
            "cell_type": "markdown",
            "source": "### Recommendation table"
        },
        {
            "metadata": {},
            "cell_type": "code",
            "source": "#The final recommendation table\nmovies_df.loc[movies_df['movieId'].isin(recommendationTable_df.head(20).keys())]",
            "execution_count": 50,
            "outputs": [
                {
                    "output_type": "execute_result",
                    "execution_count": 50,
                    "data": {
                        "text/plain": "       movieId                                              title  \\\n664        673                                          Space Jam   \n2902      2987                           Who Framed Roger Rabbit?   \n4923      5018                                           Motorama   \n6793      6902                                      Interstate 60   \n8605     26093         Wonderful World of the Brothers Grimm, The   \n8783     26340  Twelve Tasks of Asterix, The (Les douze travau...   \n9296     27344  Revolutionary Girl Utena: Adolescence of Utena...   \n9825     32031                                             Robots   \n11716    51632                            Atlantis: Milo's Return   \n11751    51939                TMNT (Teenage Mutant Ninja Turtles)   \n13250    64645                                  The Wrecking Crew   \n16055    81132                                             Rubber   \n18312    91335                                      Gruffalo, The   \n22778   108540           Ernest & C\u00e9lestine (Ernest et C\u00e9lestine)   \n22881   108932                                     The Lego Movie   \n25218   117646                     Dragonheart 2: A New Beginning   \n26442   122787                                       The 39 Steps   \n28220   130520                                               Home   \n32854   146305                             Princes and Princesses   \n33509   148775                Wizards of Waverly Place: The Movie   \n\n                                                  genres  year  \n664    [Adventure, Animation, Children, Comedy, Fanta...  1996  \n2902   [Adventure, Animation, Children, Comedy, Crime...  1988  \n4923   [Adventure, Comedy, Crime, Drama, Fantasy, Mys...  1991  \n6793   [Adventure, Comedy, Drama, Fantasy, Mystery, S...  2002  \n8605   [Adventure, Animation, Children, Comedy, Drama...  1962  \n8783   [Action, Adventure, Animation, Children, Comed...  1976  \n9296   [Action, Adventure, Animation, Comedy, Drama, ...  1999  \n9825   [Adventure, Animation, Children, Comedy, Fanta...  2005  \n11716  [Action, Adventure, Animation, Children, Comed...  2003  \n11751  [Action, Adventure, Animation, Children, Comed...  2007  \n13250  [Action, Adventure, Comedy, Crime, Drama, Thri...  1968  \n16055  [Action, Adventure, Comedy, Crime, Drama, Film...  2010  \n18312    [Adventure, Animation, Children, Comedy, Drama]  2009  \n22778  [Adventure, Animation, Children, Comedy, Drama...  2012  \n22881  [Action, Adventure, Animation, Children, Comed...  2014  \n25218  [Action, Adventure, Comedy, Drama, Fantasy, Th...  2000  \n26442  [Action, Adventure, Comedy, Crime, Drama, Thri...  1959  \n28220  [Adventure, Animation, Children, Comedy, Fanta...  2015  \n32854  [Animation, Children, Comedy, Drama, Fantasy, ...  2000  \n33509  [Adventure, Children, Comedy, Drama, Fantasy, ...  2009  ",
                        "text/html": "<div>\n<style scoped>\n    .dataframe tbody tr th:only-of-type {\n        vertical-align: middle;\n    }\n\n    .dataframe tbody tr th {\n        vertical-align: top;\n    }\n\n    .dataframe thead th {\n        text-align: right;\n    }\n</style>\n<table border=\"1\" class=\"dataframe\">\n  <thead>\n    <tr style=\"text-align: right;\">\n      <th></th>\n      <th>movieId</th>\n      <th>title</th>\n      <th>genres</th>\n      <th>year</th>\n    </tr>\n  </thead>\n  <tbody>\n    <tr>\n      <th>664</th>\n      <td>673</td>\n      <td>Space Jam</td>\n      <td>[Adventure, Animation, Children, Comedy, Fanta...</td>\n      <td>1996</td>\n    </tr>\n    <tr>\n      <th>2902</th>\n      <td>2987</td>\n      <td>Who Framed Roger Rabbit?</td>\n      <td>[Adventure, Animation, Children, Comedy, Crime...</td>\n      <td>1988</td>\n    </tr>\n    <tr>\n      <th>4923</th>\n      <td>5018</td>\n      <td>Motorama</td>\n      <td>[Adventure, Comedy, Crime, Drama, Fantasy, Mys...</td>\n      <td>1991</td>\n    </tr>\n    <tr>\n      <th>6793</th>\n      <td>6902</td>\n      <td>Interstate 60</td>\n      <td>[Adventure, Comedy, Drama, Fantasy, Mystery, S...</td>\n      <td>2002</td>\n    </tr>\n    <tr>\n      <th>8605</th>\n      <td>26093</td>\n      <td>Wonderful World of the Brothers Grimm, The</td>\n      <td>[Adventure, Animation, Children, Comedy, Drama...</td>\n      <td>1962</td>\n    </tr>\n    <tr>\n      <th>8783</th>\n      <td>26340</td>\n      <td>Twelve Tasks of Asterix, The (Les douze travau...</td>\n      <td>[Action, Adventure, Animation, Children, Comed...</td>\n      <td>1976</td>\n    </tr>\n    <tr>\n      <th>9296</th>\n      <td>27344</td>\n      <td>Revolutionary Girl Utena: Adolescence of Utena...</td>\n      <td>[Action, Adventure, Animation, Comedy, Drama, ...</td>\n      <td>1999</td>\n    </tr>\n    <tr>\n      <th>9825</th>\n      <td>32031</td>\n      <td>Robots</td>\n      <td>[Adventure, Animation, Children, Comedy, Fanta...</td>\n      <td>2005</td>\n    </tr>\n    <tr>\n      <th>11716</th>\n      <td>51632</td>\n      <td>Atlantis: Milo's Return</td>\n      <td>[Action, Adventure, Animation, Children, Comed...</td>\n      <td>2003</td>\n    </tr>\n    <tr>\n      <th>11751</th>\n      <td>51939</td>\n      <td>TMNT (Teenage Mutant Ninja Turtles)</td>\n      <td>[Action, Adventure, Animation, Children, Comed...</td>\n      <td>2007</td>\n    </tr>\n    <tr>\n      <th>13250</th>\n      <td>64645</td>\n      <td>The Wrecking Crew</td>\n      <td>[Action, Adventure, Comedy, Crime, Drama, Thri...</td>\n      <td>1968</td>\n    </tr>\n    <tr>\n      <th>16055</th>\n      <td>81132</td>\n      <td>Rubber</td>\n      <td>[Action, Adventure, Comedy, Crime, Drama, Film...</td>\n      <td>2010</td>\n    </tr>\n    <tr>\n      <th>18312</th>\n      <td>91335</td>\n      <td>Gruffalo, The</td>\n      <td>[Adventure, Animation, Children, Comedy, Drama]</td>\n      <td>2009</td>\n    </tr>\n    <tr>\n      <th>22778</th>\n      <td>108540</td>\n      <td>Ernest &amp; C\u00e9lestine (Ernest et C\u00e9lestine)</td>\n      <td>[Adventure, Animation, Children, Comedy, Drama...</td>\n      <td>2012</td>\n    </tr>\n    <tr>\n      <th>22881</th>\n      <td>108932</td>\n      <td>The Lego Movie</td>\n      <td>[Action, Adventure, Animation, Children, Comed...</td>\n      <td>2014</td>\n    </tr>\n    <tr>\n      <th>25218</th>\n      <td>117646</td>\n      <td>Dragonheart 2: A New Beginning</td>\n      <td>[Action, Adventure, Comedy, Drama, Fantasy, Th...</td>\n      <td>2000</td>\n    </tr>\n    <tr>\n      <th>26442</th>\n      <td>122787</td>\n      <td>The 39 Steps</td>\n      <td>[Action, Adventure, Comedy, Crime, Drama, Thri...</td>\n      <td>1959</td>\n    </tr>\n    <tr>\n      <th>28220</th>\n      <td>130520</td>\n      <td>Home</td>\n      <td>[Adventure, Animation, Children, Comedy, Fanta...</td>\n      <td>2015</td>\n    </tr>\n    <tr>\n      <th>32854</th>\n      <td>146305</td>\n      <td>Princes and Princesses</td>\n      <td>[Animation, Children, Comedy, Drama, Fantasy, ...</td>\n      <td>2000</td>\n    </tr>\n    <tr>\n      <th>33509</th>\n      <td>148775</td>\n      <td>Wizards of Waverly Place: The Movie</td>\n      <td>[Adventure, Children, Comedy, Drama, Fantasy, ...</td>\n      <td>2009</td>\n    </tr>\n  </tbody>\n</table>\n</div>"
                    },
                    "metadata": {}
                }
            ]
        },
        {
            "metadata": {},
            "cell_type": "markdown",
            "source": "### Content-based technique tries to figure out what a user's favorite aspects of an item is, and then recommends item that present those aspects."
        },
        {
            "metadata": {},
            "cell_type": "code",
            "source": "",
            "execution_count": null,
            "outputs": []
        }
    ],
    "metadata": {
        "kernelspec": {
            "name": "python3",
            "display_name": "Python 3.7",
            "language": "python"
        },
        "language_info": {
            "name": "python",
            "version": "3.7.9",
            "mimetype": "text/x-python",
            "codemirror_mode": {
                "name": "ipython",
                "version": 3
            },
            "pygments_lexer": "ipython3",
            "nbconvert_exporter": "python",
            "file_extension": ".py"
        }
    },
    "nbformat": 4,
    "nbformat_minor": 1
}