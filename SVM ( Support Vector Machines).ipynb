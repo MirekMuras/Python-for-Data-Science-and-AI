{
    "cells": [
        {
            "metadata": {
                "collapsed": true
            },
            "cell_type": "markdown",
            "source": "<h1>Table of contents</h1>\n\n<div class=\"alert-info\" style=\"margin-top: 20px\">\n    <ol>\n        <li><a href=\"#load_dataset\">Load the Cancer data</a></li>\n        <li><a href=\"#modeling\">Modeling</a></li>\n        <li><a href=\"#evaluation\">Evaluation</a></li>\n        <li><a href=\"#practice\">Practice</a></li>\n    </ol>\n</div>\n<br>\n<hr>"
        },
        {
            "metadata": {},
            "cell_type": "code",
            "source": "# Import library\nimport pandas as pd\nimport pylab as pl\nimport numpy as np\nimport scipy.optimize as opt\nfrom sklearn import preprocessing\nfrom sklearn.model_selection import train_test_split\n%matplotlib inline \nimport matplotlib.pyplot as plt\n\nprint('imported')",
            "execution_count": 79,
            "outputs": [
                {
                    "output_type": "stream",
                    "text": "imported\n",
                    "name": "stdout"
                }
            ]
        },
        {
            "metadata": {},
            "cell_type": "markdown",
            "source": "## Load the data"
        },
        {
            "metadata": {},
            "cell_type": "code",
            "source": "# download the data\n!wget -O cell_samples.csv https://s3-api.us-geo.objectstorage.softlayer.net/cf-courses-data/CognitiveClass/ML0101ENv3/labs/cell_samples.csv",
            "execution_count": 80,
            "outputs": [
                {
                    "output_type": "stream",
                    "text": "--2020-10-12 05:09:23--  https://s3-api.us-geo.objectstorage.softlayer.net/cf-courses-data/CognitiveClass/ML0101ENv3/labs/cell_samples.csv\nResolving s3-api.us-geo.objectstorage.softlayer.net (s3-api.us-geo.objectstorage.softlayer.net)... 67.228.254.196\nConnecting to s3-api.us-geo.objectstorage.softlayer.net (s3-api.us-geo.objectstorage.softlayer.net)|67.228.254.196|:443... connected.\nHTTP request sent, awaiting response... 200 OK\nLength: 20675 (20K) [text/csv]\nSaving to: \u2018cell_samples.csv\u2019\n\n100%[======================================>] 20,675      --.-K/s   in 0.001s  \n\n2020-10-12 05:09:24 (15.1 MB/s) - \u2018cell_samples.csv\u2019 saved [20675/20675]\n\n",
                    "name": "stdout"
                }
            ]
        },
        {
            "metadata": {},
            "cell_type": "code",
            "source": "# read data from the .csv file\ncell_df = pd.read_csv(\"cell_samples.csv\")\ncell_df.head()",
            "execution_count": 81,
            "outputs": [
                {
                    "output_type": "execute_result",
                    "execution_count": 81,
                    "data": {
                        "text/plain": "        ID  Clump  UnifSize  UnifShape  MargAdh  SingEpiSize BareNuc  \\\n0  1000025      5         1          1        1            2       1   \n1  1002945      5         4          4        5            7      10   \n2  1015425      3         1          1        1            2       2   \n3  1016277      6         8          8        1            3       4   \n4  1017023      4         1          1        3            2       1   \n\n   BlandChrom  NormNucl  Mit  Class  \n0           3         1    1      2  \n1           3         2    1      2  \n2           3         1    1      2  \n3           3         7    1      2  \n4           3         1    1      2  ",
                        "text/html": "<div>\n<style scoped>\n    .dataframe tbody tr th:only-of-type {\n        vertical-align: middle;\n    }\n\n    .dataframe tbody tr th {\n        vertical-align: top;\n    }\n\n    .dataframe thead th {\n        text-align: right;\n    }\n</style>\n<table border=\"1\" class=\"dataframe\">\n  <thead>\n    <tr style=\"text-align: right;\">\n      <th></th>\n      <th>ID</th>\n      <th>Clump</th>\n      <th>UnifSize</th>\n      <th>UnifShape</th>\n      <th>MargAdh</th>\n      <th>SingEpiSize</th>\n      <th>BareNuc</th>\n      <th>BlandChrom</th>\n      <th>NormNucl</th>\n      <th>Mit</th>\n      <th>Class</th>\n    </tr>\n  </thead>\n  <tbody>\n    <tr>\n      <th>0</th>\n      <td>1000025</td>\n      <td>5</td>\n      <td>1</td>\n      <td>1</td>\n      <td>1</td>\n      <td>2</td>\n      <td>1</td>\n      <td>3</td>\n      <td>1</td>\n      <td>1</td>\n      <td>2</td>\n    </tr>\n    <tr>\n      <th>1</th>\n      <td>1002945</td>\n      <td>5</td>\n      <td>4</td>\n      <td>4</td>\n      <td>5</td>\n      <td>7</td>\n      <td>10</td>\n      <td>3</td>\n      <td>2</td>\n      <td>1</td>\n      <td>2</td>\n    </tr>\n    <tr>\n      <th>2</th>\n      <td>1015425</td>\n      <td>3</td>\n      <td>1</td>\n      <td>1</td>\n      <td>1</td>\n      <td>2</td>\n      <td>2</td>\n      <td>3</td>\n      <td>1</td>\n      <td>1</td>\n      <td>2</td>\n    </tr>\n    <tr>\n      <th>3</th>\n      <td>1016277</td>\n      <td>6</td>\n      <td>8</td>\n      <td>8</td>\n      <td>1</td>\n      <td>3</td>\n      <td>4</td>\n      <td>3</td>\n      <td>7</td>\n      <td>1</td>\n      <td>2</td>\n    </tr>\n    <tr>\n      <th>4</th>\n      <td>1017023</td>\n      <td>4</td>\n      <td>1</td>\n      <td>1</td>\n      <td>3</td>\n      <td>2</td>\n      <td>1</td>\n      <td>3</td>\n      <td>1</td>\n      <td>1</td>\n      <td>2</td>\n    </tr>\n  </tbody>\n</table>\n</div>"
                    },
                    "metadata": {}
                }
            ]
        },
        {
            "metadata": {},
            "cell_type": "markdown",
            "source": "<h2 id=\"load_dataset\">Load the Cancer data</h2>\nThe dataset consists of several hundred human cell sample records, each of which contains the values of a set of cell characteristics. The fields in each record are:\n\n| Field name  | Description                 |\n| ----------- | --------------------------- |\n| ID          | Clump thickness             |\n| Clump       | Clump thickness             |\n| UnifSize    | Uniformity of cell size     |\n| UnifShape   | Uniformity of cell shape    |\n| MargAdh     | Marginal adhesion           |\n| SingEpiSize | Single epithelial cell size |\n| BareNuc     | Bare nuclei                 |\n| BlandChrom  | Bland chromatin             |\n| NormNucl    | Normal nucleoli             |\n| Mit         | Mitoses                     |\n| Class       | Benign or malignant         |\n\n<br>\nThe ID field contains the patient identifiers. The characteristics of the cell samples from each patient are contained in fields Clump to Mit. The values are graded from 1 to 10, with 1 being the closest to benign (harmless).\n\nThe Class field contains the diagnosis, as confirmed by separate medical procedures, as to whether the samples are benign (value = 2) or malignant (value = 4).\n\nLets look at the distribution of the classes based on Clump thickness and Uniformity of cell size:"
        },
        {
            "metadata": {},
            "cell_type": "code",
            "source": "ax = cell_df[cell_df['Class'] == 4][0:50].plot(kind='scatter', x='Clump', y='UnifSize', color='green', label='malignant');\n\ncell_df[cell_df['Class'] == 2][0:50].plot(kind='scatter', x='Clump', y='UnifSize', color='darkred', label='benign', ax=ax);\n\nplt.show()",
            "execution_count": 82,
            "outputs": [
                {
                    "output_type": "display_data",
                    "data": {
                        "text/plain": "<Figure size 432x288 with 1 Axes>",
                        "image/png": "[encoded data removed]"
                    },
                    "metadata": {
                        "needs_background": "light"
                    }
                }
            ]
        },
        {
            "metadata": {},
            "cell_type": "markdown",
            "source": "## Data pre-processing and selection"
        },
        {
            "metadata": {},
            "cell_type": "code",
            "source": "# look at columns data types\ncell_df.dtypes",
            "execution_count": 83,
            "outputs": [
                {
                    "output_type": "execute_result",
                    "execution_count": 83,
                    "data": {
                        "text/plain": "ID              int64\nClump           int64\nUnifSize        int64\nUnifShape       int64\nMargAdh         int64\nSingEpiSize     int64\nBareNuc        object\nBlandChrom      int64\nNormNucl        int64\nMit             int64\nClass           int64\ndtype: object"
                    },
                    "metadata": {}
                }
            ]
        },
        {
            "metadata": {},
            "cell_type": "markdown",
            "source": "It looks like the **BareNuc** column includes some values that are not numerical. Convert those rows into 'int'."
        },
        {
            "metadata": {},
            "cell_type": "code",
            "source": "cell_df = cell_df[pd.to_numeric(cell_df['BareNuc'], errors='coerce').notnull()]\n\ncell_df['BareNuc'] = cell_df['BareNuc'].astype('int')\n\ncell_df.dtypes",
            "execution_count": 84,
            "outputs": [
                {
                    "output_type": "execute_result",
                    "execution_count": 84,
                    "data": {
                        "text/plain": "ID             int64\nClump          int64\nUnifSize       int64\nUnifShape      int64\nMargAdh        int64\nSingEpiSize    int64\nBareNuc        int64\nBlandChrom     int64\nNormNucl       int64\nMit            int64\nClass          int64\ndtype: object"
                    },
                    "metadata": {}
                }
            ]
        },
        {
            "metadata": {},
            "cell_type": "code",
            "source": "feature_df = cell_df[['Clump', 'UnifSize', 'UnifShape', 'MargAdh', 'SingEpiSize', 'BareNuc', 'BlandChrom', 'NormNucl', 'Mit']]\nX = np.asarray(feature_df)\nX[0:5]",
            "execution_count": 85,
            "outputs": [
                {
                    "output_type": "execute_result",
                    "execution_count": 85,
                    "data": {
                        "text/plain": "array([[ 5,  1,  1,  1,  2,  1,  3,  1,  1],\n       [ 5,  4,  4,  5,  7, 10,  3,  2,  1],\n       [ 3,  1,  1,  1,  2,  2,  3,  1,  1],\n       [ 6,  8,  8,  1,  3,  4,  3,  7,  1],\n       [ 4,  1,  1,  3,  2,  1,  3,  1,  1]])"
                    },
                    "metadata": {}
                }
            ]
        },
        {
            "metadata": {},
            "cell_type": "markdown",
            "source": "We want the model to predict the value of Class (that is, benign (=2) or malignant (=4)). As this field can have one of only two possible values, we need to change its measurement level to reflect this."
        },
        {
            "metadata": {},
            "cell_type": "code",
            "source": "cell_df['Class'] = cell_df['Class'].astype('int')\n\ny = np.asarray(cell_df['Class'])\ny [0:5]",
            "execution_count": 86,
            "outputs": [
                {
                    "output_type": "execute_result",
                    "execution_count": 86,
                    "data": {
                        "text/plain": "array([2, 2, 2, 2, 2])"
                    },
                    "metadata": {}
                }
            ]
        },
        {
            "metadata": {},
            "cell_type": "markdown",
            "source": "## Train/Test dataset "
        },
        {
            "metadata": {},
            "cell_type": "code",
            "source": "# Train/Test split 70/30\nX_train, X_test, y_train, y_test = train_test_split( X, y, test_size=0.3, random_state=4)\n\nprint ('Train set:', X_train.shape,  y_train.shape)\nprint ('Test set:', X_test.shape,  y_test.shape)",
            "execution_count": 87,
            "outputs": [
                {
                    "output_type": "stream",
                    "text": "Train set: (478, 9) (478,)\nTest set: (205, 9) (205,)\n",
                    "name": "stdout"
                }
            ]
        },
        {
            "metadata": {},
            "cell_type": "markdown",
            "source": "## Modeling (SVM with Scikit-learn )"
        },
        {
            "metadata": {},
            "cell_type": "markdown",
            "source": "The SVM algorithm offers a choice of kernel functions for performing its processing. Mapping data into a higher dimensional space is called kernelling. The mathematical function used for the transformation is known as the\u00a0kernel\u00a0function, and can be of different types, such as:\n\n```\n1.Linear\n2.Polynomial\n3.Radial basis function (RBF)\n4.Sigmoid\n```\n\nkernel:{\u2018linear\u2019, \u2018poly\u2019, \u2018rbf\u2019, \u2018sigmoid\u2019, \u2018precomputed\u2019}, default=\u2019rbf\u2019}\n\nEach of these functions has its characteristics, its pros and cons, and its equation, but as there's no easy way of knowing which function performs best with any given dataset, we usually choose different functions in turn and compare the results. "
        },
        {
            "metadata": {},
            "cell_type": "code",
            "source": "from sklearn import svm\nclf = svm.SVC(kernel='linear')\nclf.fit(X_train, y_train) ",
            "execution_count": 88,
            "outputs": [
                {
                    "output_type": "execute_result",
                    "execution_count": 88,
                    "data": {
                        "text/plain": "SVC(C=1.0, cache_size=200, class_weight=None, coef0=0.0,\n  decision_function_shape='ovr', degree=3, gamma='auto_deprecated',\n  kernel='linear', max_iter=-1, probability=False, random_state=None,\n  shrinking=True, tol=0.001, verbose=False)"
                    },
                    "metadata": {}
                }
            ]
        },
        {
            "metadata": {},
            "cell_type": "code",
            "source": "# use model to predict new values\nyhat = clf.predict(X_test)\nyhat [0:5]",
            "execution_count": 89,
            "outputs": [
                {
                    "output_type": "execute_result",
                    "execution_count": 89,
                    "data": {
                        "text/plain": "array([2, 4, 2, 4, 2])"
                    },
                    "metadata": {}
                }
            ]
        },
        {
            "metadata": {},
            "cell_type": "markdown",
            "source": "## Evaluation"
        },
        {
            "metadata": {},
            "cell_type": "code",
            "source": "from sklearn.metrics import classification_report, confusion_matrix\nimport itertools",
            "execution_count": 90,
            "outputs": []
        },
        {
            "metadata": {},
            "cell_type": "code",
            "source": "def plot_confusion_matrix(cm, classes,\n                          normalize=False,\n                          title='Confusion matrix',\n                          cmap=plt.cm.Blues):\n    \"\"\"\n    This function prints and plots the confusion matrix.\n    Normalization can be applied by setting `normalize=True`.\n    \"\"\"\n    if normalize:\n        cm = cm.astype('float') / cm.sum(axis=1)[:, np.newaxis]\n        print(\"Normalized confusion matrix\")\n    else:\n        print('Confusion matrix, without normalization')\n\n    print(cm)\n\n    plt.imshow(cm, interpolation='nearest', cmap=cmap)\n    plt.title(title)\n    plt.colorbar()\n    tick_marks = np.arange(len(classes))\n    plt.xticks(tick_marks, classes, rotation=45)\n    plt.yticks(tick_marks, classes)\n\n    fmt = '.2f' if normalize else 'd'\n    thresh = cm.max() / 2.\n    for i, j in itertools.product(range(cm.shape[0]), range(cm.shape[1])):\n        plt.text(j, i, format(cm[i, j], fmt),\n                 horizontalalignment=\"center\",\n                 color=\"white\" if cm[i, j] > thresh else \"black\")\n\n    plt.tight_layout()\n    plt.ylabel('True label')\n    plt.xlabel('Predicted label')",
            "execution_count": 91,
            "outputs": []
        },
        {
            "metadata": {},
            "cell_type": "code",
            "source": "# Compute confusion matrix\ncnf_matrix = confusion_matrix(y_test, yhat, labels=[2,4])\nnp.set_printoptions(precision=2)\n\nprint (classification_report(y_test, yhat))\n\n# Plot non-normalized confusion matrix\nplt.figure()\nplot_confusion_matrix(cnf_matrix, classes=['Benign(2)','Malignant(4)'],normalize= False,  title='Confusion matrix')",
            "execution_count": 92,
            "outputs": [
                {
                    "output_type": "stream",
                    "text": "              precision    recall  f1-score   support\n\n           2       0.98      0.92      0.95       132\n           4       0.88      0.96      0.92        73\n\n   micro avg       0.94      0.94      0.94       205\n   macro avg       0.93      0.94      0.93       205\nweighted avg       0.94      0.94      0.94       205\n\nConfusion matrix, without normalization\n[[122  10]\n [  3  70]]\n",
                    "name": "stdout"
                },
                {
                    "output_type": "display_data",
                    "data": {
                        "text/plain": "<Figure size 432x288 with 2 Axes>",
                        "image/png": "[encoded data removed]"
                    },
                    "metadata": {
                        "needs_background": "light"
                    }
                }
            ]
        },
        {
            "metadata": {},
            "cell_type": "code",
            "source": "# use the f1_score from sklearn library\nfrom sklearn.metrics import f1_score\nprint(\"Average F1-Score: %.4f\" %f1_score(y_test, yhat, average='weighted')) ",
            "execution_count": 93,
            "outputs": [
                {
                    "output_type": "stream",
                    "text": "Average F1-Score: 0.9372\n",
                    "name": "stdout"
                }
            ]
        },
        {
            "metadata": {},
            "cell_type": "code",
            "source": "# try jaccard index for accuracy\nfrom sklearn.metrics import jaccard_similarity_score\nprint(\"Jaccard Score: %.4f\" %jaccard_similarity_score(y_test, yhat))\n",
            "execution_count": 94,
            "outputs": [
                {
                    "output_type": "stream",
                    "text": "Jaccard Score: 0.9366\n",
                    "name": "stdout"
                }
            ]
        },
        {
            "metadata": {},
            "cell_type": "code",
            "source": "# try accuracy_score \nfrom sklearn.metrics import accuracy_score\nprint(\"Accuracy-Score: %.4f\" % accuracy_score(y_test, yhat))",
            "execution_count": 95,
            "outputs": [
                {
                    "output_type": "stream",
                    "text": "Accuracy-Score: 0.9366\n",
                    "name": "stdout"
                }
            ]
        },
        {
            "metadata": {},
            "cell_type": "code",
            "source": "",
            "execution_count": null,
            "outputs": []
        }
    ],
    "metadata": {
        "kernelspec": {
            "name": "python3",
            "display_name": "Python 3.6",
            "language": "python"
        },
        "language_info": {
            "name": "python",
            "version": "3.6.9",
            "mimetype": "text/x-python",
            "codemirror_mode": {
                "name": "ipython",
                "version": 3
            },
            "pygments_lexer": "ipython3",
            "nbconvert_exporter": "python",
            "file_extension": ".py"
        }
    },
    "nbformat": 4,
    "nbformat_minor": 1
}