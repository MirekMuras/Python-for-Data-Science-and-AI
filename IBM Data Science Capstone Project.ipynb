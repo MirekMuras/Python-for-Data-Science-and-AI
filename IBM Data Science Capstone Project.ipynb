{
 "cells": [
  {
   "cell_type": "markdown",
   "metadata": {},
   "source": [
    "<h1 align=center style= \"color: green\"><font size = 5>IBM Data Science Capstone Project</font></h1>\n",
    "<p style= \"text-align:center\">Miroslav Muras</p> \n",
    "<p style= \"text-align:center\">November 2020</p>"
   ]
  },
  {
   "cell_type": "markdown",
   "metadata": {},
   "source": [
    "## Introduction\n",
    "\n",
    "- The location of a new shopping mall remains the key real estate consideration whether malls will be successful or a failure. The construction of a new shopping mall has a profound effect on the people and who live there.\n",
    "- Business Question: What is the most lucrative neighborhood to build a new shopping mall in a mature city such as Chicago, IL?\n",
    "- Objective: To use Chicago neighborhood analytics by employing a data-driven approach to measure performance clustering using Machine Learning tools is going to help to locate a selection of the best locations in the city of Chicago, Illinois to open a new shopping mall.\n",
    "\n",
    "\n"
   ]
  },
  {
   "cell_type": "code",
   "execution_count": null,
   "metadata": {},
   "outputs": [],
   "source": []
  },
  {
   "cell_type": "code",
   "execution_count": null,
   "metadata": {},
   "outputs": [],
   "source": []
  },
  {
   "cell_type": "markdown",
   "metadata": {},
   "source": [
    "## Data \n",
    "\n",
    "1.  <a href=\"#item1\">Wikipedia page of Chicago,IL neighborhoods.</a>\n",
    "2.  <a href=\"#item2\">Latitude and longitude coordinates of the neighborhoods</a>  \n",
    "3.  <a href=\"#item3\">Venue data, related to shopping malls development</a>\n",
    "\n",
    "## Data sources description\n",
    "\n",
    "4.  <a href=\"#item4\">https://en.wikipedia.org/wiki/List_of_neighborhoods_in_Chicago</a>  \n",
    "5.  <a href=\"#item5\">Geocoder package for Latitude & Longitude coordinates</a>  \n",
    "6.  <a href=\"#item6\">Foursquare API for venue data</a>\n",
    "\n",
    "## Methodology\n",
    "\n",
    "7.  <a href=\"#item7\">Web scraping and cleaning Wikipidia page for neighborhoods list</a>  \n",
    "8.  <a href=\"#item8\">Get Latitude & longitude coordinates using Geocoder</a>  \n",
    "9.  <a href=\"#item9\">Use Foursquare API to get venue data</a>\n",
    "10.  <a href=\"#item10\">Group data by neighborhood and taking the mean of the frequency of occurrence of each venue category.</a>\n",
    "11.  <a href=\"#item11\">Filter venues category by Shopping Mall</a>\n",
    "12.  <a href=\"#item12\">This project will analyze and perform clustering on the data using the Machine Learning k-mean model.</a>\n",
    "13.  <a href=\"#item13\">Visualize the clustering in a map using Python Folium library.</a>"
   ]
  },
  {
   "cell_type": "code",
   "execution_count": null,
   "metadata": {},
   "outputs": [],
   "source": []
  },
  {
   "cell_type": "markdown",
   "metadata": {},
   "source": [
    "## Goal of the modeling:\n",
    "Leveriging this data will solve the problems and categorize the neighborhood into 3 clusters to make smart buisness decisions regarding a new mall development.\n",
    "- Cluster 0: A neighborhood with moderate number of sopping malls \n",
    "- Cluster 1: A neighborhood with low number to no shopping malls \n",
    "- Cluster 2: A neighborhood with high concetration of shopping malls "
   ]
  },
  {
   "cell_type": "code",
   "execution_count": null,
   "metadata": {},
   "outputs": [],
   "source": []
  }
 ],
 "metadata": {
  "kernelspec": {
   "display_name": "Python 3",
   "language": "python",
   "name": "python3"
  },
  "language_info": {
   "codemirror_mode": {
    "name": "ipython",
    "version": 3
   },
   "file_extension": ".py",
   "mimetype": "text/x-python",
   "name": "python",
   "nbconvert_exporter": "python",
   "pygments_lexer": "ipython3",
   "version": "3.7.2"
  }
 },
 "nbformat": 4,
 "nbformat_minor": 2
}
